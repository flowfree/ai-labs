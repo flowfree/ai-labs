{
 "cells": [
  {
   "attachments": {},
   "cell_type": "markdown",
   "metadata": {},
   "source": [
    "# Automatic Speech Recognition\n",
    "\n",
    "Automatic Speech Recognition (ASR), also known as Speech to Text (STT), is the task of transcribing a given audio to text. It has many applications, such as voice user interfaces."
   ]
  },
  {
   "cell_type": "code",
   "execution_count": 31,
   "metadata": {},
   "outputs": [],
   "source": [
    "from transformers import pipeline\n",
    "\n",
    "model = 'openai/whisper-tiny.en'\n",
    "transcriber = pipeline(\n",
    "    'automatic-speech-recognition', \n",
    "    model=model,\n",
    "    chunk_length_s=30,\n",
    ")"
   ]
  },
  {
   "attachments": {},
   "cell_type": "markdown",
   "metadata": {},
   "source": [
    "Transcribe the audio from the [PolyAI/minds14](https://huggingface.co/datasets/PolyAI/minds14) dataset:"
   ]
  },
  {
   "cell_type": "code",
   "execution_count": null,
   "metadata": {},
   "outputs": [],
   "source": [
    "from datasets import load_dataset\n",
    "\n",
    "dataset = load_dataset('PolyAI/minds14', 'en-US')"
   ]
  },
  {
   "cell_type": "code",
   "execution_count": 3,
   "metadata": {},
   "outputs": [
    {
     "data": {
      "text/plain": [
       "{'text': ' I would like to set up a joint account with my partner. How do I proceed with doing that?'}"
      ]
     },
     "execution_count": 3,
     "metadata": {},
     "output_type": "execute_result"
    }
   ],
   "source": [
    "audio_file = dataset['train'][0]['path']\n",
    "transcriber(audio_file, max_new_tokens=250)"
   ]
  },
  {
   "attachments": {},
   "cell_type": "markdown",
   "metadata": {},
   "source": [
    "Transcribe from a local audio file:"
   ]
  },
  {
   "cell_type": "code",
   "execution_count": 4,
   "metadata": {},
   "outputs": [
    {
     "data": {
      "text/plain": [
       "{'text': ' I would like to set up a joint account with my partner. How do I proceed with doing that?'}"
      ]
     },
     "execution_count": 4,
     "metadata": {},
     "output_type": "execute_result"
    }
   ],
   "source": [
    "from pydub import AudioSegment\n",
    "\n",
    "audio_file = '../media/sample1.wav'\n",
    "transcriber(audio_file, max_new_tokens=100)"
   ]
  },
  {
   "attachments": {},
   "cell_type": "markdown",
   "metadata": {},
   "source": [
    "Transcribe from an MP3 file:"
   ]
  },
  {
   "cell_type": "code",
   "execution_count": null,
   "metadata": {},
   "outputs": [],
   "source": [
    "%pip install git+https://github.com/ytdl-org/youtube-dl.git@master#egg=youtube_dl"
   ]
  },
  {
   "cell_type": "code",
   "execution_count": null,
   "metadata": {},
   "outputs": [],
   "source": [
    "!youtube-dl --extract-audio --audio-format mp3 --output \"../media/NO_EXCUSES.%(ext)s\" \"https://www.youtube.com/watch?v=wnHW6o8WMas\"\n",
    "\n",
    "from pydub import AudioSegment\n",
    "\n",
    "src = '../media/NO_EXCUSES.mp3'\n",
    "dst = '../media/NO_EXCUSES.wav'\n",
    "track = AudioSegment.from_file(src, format='mp3')\n",
    "track.export(dst, format='wav')"
   ]
  },
  {
   "cell_type": "code",
   "execution_count": 32,
   "metadata": {},
   "outputs": [
    {
     "data": {
      "text/plain": [
       "{'text': \" What's stopping you? Are you too tired? They're gonna sleep. Don't have enough energy. Don't have enough time. Is that what's stopping you right now? Don't have enough money. Is that the thing? Or is the thing that's stopping you? You. to show up to your pity potties and your pity parades. If you ever see me in a rose, Royce, a six or seven star hotel living my life to the fullest, don't get jealous of me. Cause I worked my ass off to get it. Nobody handed me nothing. Wake your ass up. Awaken the beast inside.'s game on It's a go season It's time for you to take advantage of the access and the resource that you have in your country and your community You got a problem with your life You got a problem with your environment Do about it. If you want it, go get it. Recognize the excuses are not valid. They're conjured up, they're fabricated, they're lies. And how do you stop the lies? You stop the lies with the truth. But the truth is, you have time. You have the skill, you have the knowledge and the support not going to fall in your lap and it's not going to be something that only God it just was so simple it's always going to be difficult If you want it you gotta go again This is your chance. This is your shot. This is your moment. This is your time. This is your place. This is your opportunity. You still got work to do. Stay on that basketball court. Stay on that football field. It's grind season home. you\"}"
      ]
     },
     "execution_count": 32,
     "metadata": {},
     "output_type": "execute_result"
    }
   ],
   "source": [
    "transcriber(dst, max_new_tokens=100)"
   ]
  },
  {
   "cell_type": "code",
   "execution_count": null,
   "metadata": {},
   "outputs": [],
   "source": []
  },
  {
   "cell_type": "markdown",
   "metadata": {},
   "source": []
  }
 ],
 "metadata": {
  "kernelspec": {
   "display_name": "venv",
   "language": "python",
   "name": "python3"
  },
  "language_info": {
   "codemirror_mode": {
    "name": "ipython",
    "version": 3
   },
   "file_extension": ".py",
   "mimetype": "text/x-python",
   "name": "python",
   "nbconvert_exporter": "python",
   "pygments_lexer": "ipython3",
   "version": "3.10.7"
  },
  "orig_nbformat": 4
 },
 "nbformat": 4,
 "nbformat_minor": 2
}
